{
  "nbformat": 4,
  "nbformat_minor": 0,
  "metadata": {
    "colab": {
      "provenance": [],
      "toc_visible": true,
      "authorship_tag": "ABX9TyPglhPUP/1YWj4lF7otdkOb",
      "include_colab_link": true
    },
    "kernelspec": {
      "name": "python3",
      "display_name": "Python 3"
    },
    "language_info": {
      "name": "python"
    }
  },
  "cells": [
    {
      "cell_type": "markdown",
      "metadata": {
        "id": "view-in-github",
        "colab_type": "text"
      },
      "source": [
        "<a href=\"https://colab.research.google.com/github/susan-kraftY/sky-main/blob/master/python-math-operators.ipynb\" target=\"_parent\"><img src=\"https://colab.research.google.com/assets/colab-badge.svg\" alt=\"Open In Colab\"/></a>"
      ]
    },
    {
      "cell_type": "code",
      "execution_count": null,
      "metadata": {
        "colab": {
          "base_uri": "https://localhost:8080/"
        },
        "id": "GWbKelRSHhme",
        "outputId": "893974d0-5bf6-4a65-e5c3-665385feced1"
      },
      "outputs": [
        {
          "output_type": "stream",
          "name": "stdout",
          "text": [
            "Hello world\n",
            "hello\n",
            "goodbye!\n"
          ]
        }
      ],
      "source": [
        "print (\"Hello world\")\n",
        "print(\"hello\")\n",
        "print(\"goodbye!\")"
      ]
    },
    {
      "cell_type": "code",
      "source": [
        "a=10\n",
        "b=3\n",
        "result=a+b\n",
        "print(result)\n",
        "\n",
        "result2=result+100\n",
        "print(result2)\n",
        "\n",
        "three_word_result=a+b+result\n",
        "print(three_word_result)\n",
        "\n",
        "result_float=result/result2\n",
        "print(result_float)\n",
        "\n",
        "result_intgr=result2//three_word_result\n",
        "print(result_intgr)\n",
        "\n",
        "result_div=a/3\n",
        "print(result_div)\n",
        "\n",
        "result_mod=a % 3\n",
        "print(result_mod)\n",
        "\n",
        "result_power=a**3\n",
        "print(result_power)\n",
        "\n",
        "\n",
        "\n"
      ],
      "metadata": {
        "colab": {
          "base_uri": "https://localhost:8080/"
        },
        "id": "LtfN6TWDKbas",
        "outputId": "1f9fa2c3-01c0-4527-8933-29fddbb86873"
      },
      "execution_count": 17,
      "outputs": [
        {
          "output_type": "stream",
          "name": "stdout",
          "text": [
            "13\n",
            "113\n",
            "26\n",
            "0.11504424778761062\n",
            "4\n",
            "3.3333333333333335\n",
            "1\n",
            "1000\n"
          ]
        }
      ]
    },
    {
      "cell_type": "code",
      "source": [
        "# prompt: average\n",
        "\n",
        "numbers=[1,2,3,4,5,6,7,8,9]\n",
        "def average(numbers):\n",
        "\n",
        "\n",
        "  \"\"\"Calculates the average of a list of numbers.\n",
        "\n",
        "  Args:\n",
        "    numbers: A list of numbers.\n",
        "\n",
        "  Returns:\n",
        "    The average of the numbers.\n",
        "  \"\"\"\n",
        "\n",
        "print({average(numbers)})\n",
        "\n",
        "\n"
      ],
      "metadata": {
        "colab": {
          "base_uri": "https://localhost:8080/"
        },
        "id": "U4QmoPgnIQZK",
        "outputId": "fc918293-3676-42e4-8d05-a0293a3bfe1e"
      },
      "execution_count": null,
      "outputs": [
        {
          "output_type": "stream",
          "name": "stdout",
          "text": [
            "{None}\n"
          ]
        }
      ]
    },
    {
      "cell_type": "markdown",
      "source": [
        "# New Section"
      ],
      "metadata": {
        "id": "jcmZg1mom2AS"
      }
    },
    {
      "cell_type": "code",
      "source": [],
      "metadata": {
        "id": "U1n-EQsMm5to"
      },
      "execution_count": null,
      "outputs": []
    },
    {
      "cell_type": "markdown",
      "source": [],
      "metadata": {
        "id": "ovmMV-9Zm6SW"
      }
    },
    {
      "cell_type": "code",
      "source": [],
      "metadata": {
        "id": "yrKmlJnAc4fv"
      },
      "execution_count": null,
      "outputs": []
    },
    {
      "cell_type": "code",
      "source": [],
      "metadata": {
        "id": "fOhR51nwcv9h"
      },
      "execution_count": null,
      "outputs": []
    }
  ]
}