{
  "nbformat": 4,
  "nbformat_minor": 0,
  "metadata": {
    "colab": {
      "provenance": [],
      "include_colab_link": true
    },
    "kernelspec": {
      "name": "python3",
      "display_name": "Python 3"
    },
    "language_info": {
      "name": "python"
    }
  },
  "cells": [
    {
      "cell_type": "markdown",
      "metadata": {
        "id": "view-in-github",
        "colab_type": "text"
      },
      "source": [
        "<a href=\"https://colab.research.google.com/github/susan-kraftY/sky-main/blob/master/Lesson_BMI.ipynb\" target=\"_parent\"><img src=\"https://colab.research.google.com/assets/colab-badge.svg\" alt=\"Open In Colab\"/></a>"
      ]
    },
    {
      "cell_type": "markdown",
      "source": [
        "## Lesson: Applying Variable Assignments, Math Operators, and Comments in Python\n",
        "\n",
        "**Objective:** To demonstrate your understanding of variable assignments, math operators, and Python comments by creating a BMI(Body Mass Index) calculator.\n",
        "\n",
        "Problem Statement:\n",
        "You are tasked to create a Python program that calculates a person's Body Mass Index (BMI). The formula for BMI is:\n",
        "\n",
        "\\begin{equation}\n",
        "    \\text{BMI} = \\frac{{\\text{weight in  \n",
        "     kilograms}}}{{\\text{(height in meters)}^2}}\n",
        "\\end{equation}\n",
        "\n",
        "Your program should:\n",
        "\n",
        "1. Assign two variables for your weight (in kilograms) and your height (in meters) (use variable assignment).\n",
        "2. Calculate the BMI (use math operators).\n",
        "3. Print the calculated BMI.\n",
        "\n",
        "Remember to include comments that explain what your code is doing!\n",
        "\n",
        "**Tasks:**\n",
        "1. **Variable Assignment:** Assign weight and height to variables\n",
        "2. **Math Operators:** Use Python's math operators to calculate the BMI.\n",
        "3. **Python  Comments:** Include comments in your code to explain what each part of the code does."
      ],
      "metadata": {
        "id": "jfnAz7xiMObY"
      }
    },
    {
      "cell_type": "code",
      "execution_count": 15,
      "metadata": {
        "id": "Q1EZVos4MGqr",
        "colab": {
          "base_uri": "https://localhost:8080/"
        },
        "outputId": "d646f3d9-da74-453b-d18b-a2353c2bad8b"
      },
      "outputs": [
        {
          "output_type": "stream",
          "name": "stdout",
          "text": [
            "what is your name?susan\n",
            "susan your BMI is 18.196579043139888 and your name has 4 characters in it\n"
          ]
        }
      ],
      "source": [
        "pounds = 130\n",
        "\n",
        "weight = pounds / 2.205\n",
        "height= 1.8\n",
        "bmi = weight / (height ** 2)\n",
        "name = input('what is your name?')\n",
        "\n",
        "print(name, \"your BMI is\", bmi, 'and your name has',len(\"name\"), 'characters in it')\n",
        "\n",
        "\n"
      ]
    }
  ]
}