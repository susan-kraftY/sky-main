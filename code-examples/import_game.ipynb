{
  "nbformat": 4,
  "nbformat_minor": 0,
  "metadata": {
    "colab": {
      "provenance": [],
      "include_colab_link": true
    },
    "kernelspec": {
      "name": "python3",
      "display_name": "Python 3"
    },
    "language_info": {
      "name": "python"
    }
  },
  "cells": [
    {
      "cell_type": "markdown",
      "metadata": {
        "id": "view-in-github",
        "colab_type": "text"
      },
      "source": [
        "<a href=\"https://colab.research.google.com/github/susan-kraftY/sky-main/blob/stage/import_game.ipynb\" target=\"_parent\"><img src=\"https://colab.research.google.com/assets/colab-badge.svg\" alt=\"Open In Colab\"/></a>"
      ]
    },
    {
      "cell_type": "code",
      "execution_count": 4,
      "metadata": {
        "id": "_6Ip1b8wXf6K",
        "colab": {
          "base_uri": "https://localhost:8080/"
        },
        "outputId": "7ae9fde5-7027-4abd-8576-0fff645b7239"
      },
      "outputs": [
        {
          "output_type": "stream",
          "name": "stdout",
          "text": [
            "Welcome to the Random Number Generator!\n",
            "Press enter to generate a random number between 1 and 10.\n",
            "press enter\n",
            "Your random number is: 9\n"
          ]
        }
      ],
      "source": [
        "from os import wait\n",
        "# Import the random module\n",
        "import random\n",
        "\n",
        "# Provide instructions to the user\n",
        "print(\"Welcome to the Random Number Generator!\")\n",
        "print(\"Press enter to generate a random number between 1 and 10.\")\n",
        "\n",
        "# Wait for the user to press enter\n",
        "wait = input(\"press enter\")\n",
        "\n",
        "# Generate and print a random number between 1 and 10\n",
        "random_number = random.randint(1,10)\n",
        "print(\"Your random number is:\", random_number)\n"
      ]
    }
  ]
}
